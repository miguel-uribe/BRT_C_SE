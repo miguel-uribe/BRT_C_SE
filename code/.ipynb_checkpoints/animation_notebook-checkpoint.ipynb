{
 "cells": [
  {
   "cell_type": "code",
   "execution_count": 105,
   "id": "6c977332",
   "metadata": {},
   "outputs": [],
   "source": [
    "import numpy as np\n",
    "import pandas as pd\n",
    "import matplotlib.pyplot as plt\n",
    "busdata = np.loadtxt('../code/sim_results/sim_results_5_2_0_1_4_5_3_0_cardata.txt')\n",
    "columns = ['time', 'x', 'y', 'lineID', 'busID']\n",
    "\n"
   ]
  },
  {
   "cell_type": "code",
   "execution_count": 106,
   "id": "55e70a11",
   "metadata": {},
   "outputs": [],
   "source": [
    "df = pd.DataFrame(busdata, columns = columns)"
   ]
  },
  {
   "cell_type": "code",
   "execution_count": 107,
   "id": "ccf9dc9e",
   "metadata": {},
   "outputs": [
    {
     "data": {
      "text/plain": [
       "10799.0"
      ]
     },
     "execution_count": 107,
     "metadata": {},
     "output_type": "execute_result"
    }
   ],
   "source": [
    "df['time'].max()"
   ]
  },
  {
   "cell_type": "code",
   "execution_count": 109,
   "id": "49b62615",
   "metadata": {
    "scrolled": false
   },
   "outputs": [
    {
     "data": {
      "text/html": [
       "<div id=\"glowscript\" class=\"glowscript\"></div>"
      ],
      "text/plain": [
       "<IPython.core.display.HTML object>"
      ]
     },
     "metadata": {},
     "output_type": "display_data"
    },
    {
     "data": {
      "application/javascript": [
       "if (typeof Jupyter !== \"undefined\") { window.__context = { glowscript_container: $(\"#glowscript\").removeAttr(\"id\")};}else{ element.textContent = ' ';}"
      ],
      "text/plain": [
       "<IPython.core.display.Javascript object>"
      ]
     },
     "metadata": {},
     "output_type": "display_data"
    }
   ],
   "source": [
    "import numpy as np\n",
    "from vpython import*\n",
    "scene = canvas() # This is needed in Jupyter notebook and lab to make programs easily rerunnable\n",
    "\n",
    "    \n",
    "    \n",
    "Db = 17\n",
    "Dy = 3\n",
    "DS = 500\n",
    "Nw = 3\n",
    "Ds = 30\n",
    "Dw = 45\n",
    "gap=(DS-(Nw-1)*Ds-Dw)/2.0\n",
    "NStations = 46\n",
    "Ocmax = 160\n",
    "\n",
    "ycenter = 1127\n",
    "scene.width = 800\n",
    "scene.height = 200\n",
    "scene.range = 40\n",
    "scene.center = vector(ycenter,0,0)\n",
    "scene.background = color.green\n",
    "scene.ambient = color.gray(0.4)\n",
    "scene.forward = vector(0,0.5,-1)\n",
    "scene.up = vector(0,0,1)\n",
    "scene.fov = 0.1\n",
    "scene.lights[0].direction = vector(-10,10,10)\n",
    "\n",
    "\n",
    "\n",
    "stationElements = []\n",
    "\n",
    "#Estación Calle 100\n",
    "posx = 1127\n",
    "posst=vector(posx,-11,-1)\n",
    "stationElements.append(box(pos=posst, length=DS, width=1,height=5, color=color.gray(0.8) ))\n",
    "posst=vector(posx,11,-1)\n",
    "stationElements.append(box(pos=posst, length=DS, width=1,height=5, color=color.gray(0.8) ))\n",
    "\n",
    "\n",
    "# corredor\n",
    "posx = 1127\n",
    "posst=vector(posx,8,-1)\n",
    "stationElements.append(box(pos=posst, length=5.5*Dw, width=1,height=10, color=color.gray(0.8) ))\n",
    "posst=vector(posx,-8,-1)\n",
    "stationElements.append(box(pos=posst, length=5.5*Dw, width=1,height=10, color=color.gray(0.8) ))\n",
    "\n",
    "# vagón 1\n",
    "posx = 1054\n",
    "posv=vector(posx,0,0)\n",
    "stationElements.append(box(pos=posv, length=Dw, width=10,height=10, color=color.blue))\n",
    "#vagon 2\n",
    "posx = 1127\n",
    "posv=vector(posx,0,0)\n",
    "stationElements.append(box(pos=posv, length=Dw, width=10,height=10, color=color.blue))\n",
    "#vagón 3\n",
    "posx = 1204\n",
    "posv=vector(posx,0,0)\n",
    "stationElements.append(box(pos=posv, length=Dw, width=10,height=10, color=color.blue))\n",
    "\n",
    "\n",
    "#if j+1<Nw:\n",
    "posv=vector(1127,0,0)\n",
    "stationElements.append(box(pos=posv, length=4*Dw, width=1,height=6, color=color.blue))\n",
    "#if j==0:\n",
    "#    posst=vector(x-0.5*Dw,-8,-1)\n",
    "#    stationElements.append(box(pos=posst, length=Dw, width=1,height=10, color=color.gray(0.8)))\n",
    "#    posst=vector(x-0.5*Dw,8,-1)\n",
    "#    stationElements.append(box(pos=posst, length=Dw, width=1,height=10, color=color.gray(0.8)))\n",
    "\n",
    "buses = []\n",
    "time0 = 5600\n",
    "for time in range(time0,time0+300):\n",
    "    rate(10)\n",
    "    for bus in buses:\n",
    "        bus.visible = False\n",
    "    del buses\n",
    "        \n",
    "    mask = busdata[:,0]==time\n",
    "    buses = []\n",
    "    for bus in busdata[mask]:\n",
    "        x = bus[1]\n",
    "        y = bus[2]\n",
    "        lineid = bus[3]\n",
    "        posbus = vector(x-0.5*Db,2*(2*y-5)-0.5*Dy,0)\n",
    "        if lineid in [3,5]:\n",
    "            DB = 27\n",
    "        else:\n",
    "            DB = 17\n",
    "        buses.append(box(pos=posbus, length=0.97*DB, height=Dy, width=4, color=vector(1,0.2,0.2)))\n",
    "    scene.capture('optimo_pass_%d'%(time-time0))"
   ]
  },
  {
   "cell_type": "code",
   "execution_count": 108,
   "id": "e0ecc1c8",
   "metadata": {},
   "outputs": [
    {
     "data": {
      "text/plain": [
       "time\n",
       "7705.0     5\n",
       "7808.0     5\n",
       "7809.0     5\n",
       "7810.0     5\n",
       "7811.0     5\n",
       "          ..\n",
       "5715.0    26\n",
       "5685.0    26\n",
       "5683.0    26\n",
       "5710.0    26\n",
       "5708.0    26\n",
       "Name: x, Length: 7200, dtype: int64"
      ]
     },
     "execution_count": 108,
     "metadata": {},
     "output_type": "execute_result"
    }
   ],
   "source": [
    "df.groupby('time')['x'].count().sort_values()"
   ]
  },
  {
   "cell_type": "code",
   "execution_count": 43,
   "id": "9b019591",
   "metadata": {},
   "outputs": [
    {
     "data": {
      "text/plain": [
       "300"
      ]
     },
     "execution_count": 43,
     "metadata": {},
     "output_type": "execute_result"
    }
   ],
   "source": [
    "60*5"
   ]
  },
  {
   "cell_type": "code",
   "execution_count": null,
   "id": "e6910df7",
   "metadata": {},
   "outputs": [],
   "source": []
  }
 ],
 "metadata": {
  "kernelspec": {
   "display_name": "Python 3 (ipykernel)",
   "language": "python",
   "name": "python3"
  },
  "language_info": {
   "codemirror_mode": {
    "name": "ipython",
    "version": 3
   },
   "file_extension": ".py",
   "mimetype": "text/x-python",
   "name": "python",
   "nbconvert_exporter": "python",
   "pygments_lexer": "ipython3",
   "version": "3.10.4"
  },
  "vscode": {
   "interpreter": {
    "hash": "75e4637791c0080e695ab8867e61143af898688511a4a8db2ef7b96dea7fc574"
   }
  }
 },
 "nbformat": 4,
 "nbformat_minor": 5
}
